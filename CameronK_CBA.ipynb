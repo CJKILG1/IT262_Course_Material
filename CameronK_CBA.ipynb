{
  "nbformat": 4,
  "nbformat_minor": 0,
  "metadata": {
    "colab": {
      "name": "CameronK_CBA.ipynb",
      "provenance": [],
      "authorship_tag": "ABX9TyOlbtje0JMQDbcb54SvQHbv",
      "include_colab_link": true
    },
    "kernelspec": {
      "name": "python3",
      "display_name": "Python 3"
    },
    "language_info": {
      "name": "python"
    }
  },
  "cells": [
    {
      "cell_type": "markdown",
      "metadata": {
        "id": "view-in-github",
        "colab_type": "text"
      },
      "source": [
        "<a href=\"https://colab.research.google.com/github/CJKILG1/IT262_Course_Material/blob/CameronK_CBA/CameronK_CBA.ipynb\" target=\"_parent\"><img src=\"https://colab.research.google.com/assets/colab-badge.svg\" alt=\"Open In Colab\"/></a>"
      ]
    },
    {
      "cell_type": "code",
      "execution_count": null,
      "metadata": {
        "id": "uvkXoWjls7Kp",
        "colab": {
          "base_uri": "https://localhost:8080/"
        },
        "outputId": "bdc62ae4-8448-43c5-e96d-a018c2a3187f"
      },
      "outputs": [
        {
          "output_type": "stream",
          "name": "stdout",
          "text": [
            "   years  developmentCost  operationalCost  valueOfBenefits\n",
            "0      0             -100                0                0\n",
            "1      1              -30              -10               25\n",
            "2      2                0              -15               55\n",
            "3      3                0              -15               85\n"
          ]
        }
      ],
      "source": [
        "import pandas as pd\n",
        "import math\n",
        "\n",
        "#read data\n",
        "\n",
        "dataT=pd.read_csv('/content/drive/MyDrive/IT262/262-CBA.csv')\n",
        "print(dataT)"
      ]
    },
    {
      "cell_type": "code",
      "source": [
        ""
      ],
      "metadata": {
        "id": "BCEGxBCUb1oV"
      },
      "execution_count": null,
      "outputs": []
    },
    {
      "cell_type": "code",
      "source": [
        "discountRate=0.05\n",
        "# the compounding discount over the years\n",
        "\n",
        "# create a list of 4 0 elements\n",
        "discountFactor=[0,0,0,0]\n",
        "\n",
        "for year in dataT['years']:\n",
        "  discountFactor[year]=1/math.pow(1+discountRate, year)\n",
        "\n",
        "dataT['discountFactor'] =[round(num,2) for num in discountFactor]\n",
        "print(dataT)\n",
        "\n",
        "\n"
      ],
      "metadata": {
        "id": "IJJhxs3guk5B",
        "colab": {
          "base_uri": "https://localhost:8080/"
        },
        "outputId": "a2b620b3-9d36-4a1c-e6cd-e2b2db332cc7"
      },
      "execution_count": null,
      "outputs": [
        {
          "output_type": "stream",
          "name": "stdout",
          "text": [
            "   years  developmentCost  operationalCost  valueOfBenefits  discountFactor\n",
            "0      0             -100                0                0            1.00\n",
            "1      1              -30              -10               25            0.95\n",
            "2      2                0              -15               55            0.91\n",
            "3      3                0              -15               85            0.86\n"
          ]
        }
      ]
    },
    {
      "cell_type": "code",
      "source": [
        "#calculate Net benefit/cost for each year\n",
        "# you sum all the benefint and cost analysis\n",
        "\n",
        "#inital a list of 4 - i have years 0 to 4\n",
        "NetBC=[0,0,0,0]\n",
        "\n",
        "for year in dataT['years']:\n",
        "  NetBC[year]=dataT['developmentCost'][year]+dataT['operationalCost'][year]+dataT['valueOfBenefits'][year]\n",
        "\n",
        "dataT['NetBC'] =NetBC\n",
        "print(dataT)\n"
      ],
      "metadata": {
        "id": "vIAIg5guyd4q",
        "colab": {
          "base_uri": "https://localhost:8080/"
        },
        "outputId": "dd2fa889-433e-4790-b43c-2b6c8065cff5"
      },
      "execution_count": null,
      "outputs": [
        {
          "output_type": "stream",
          "name": "stdout",
          "text": [
            "   years  developmentCost  ...  discountFactor  NetBC\n",
            "0      0             -100  ...            1.00   -100\n",
            "1      1              -30  ...            0.95    -15\n",
            "2      2                0  ...            0.91     40\n",
            "3      3                0  ...            0.86     70\n",
            "\n",
            "[4 rows x 6 columns]\n"
          ]
        }
      ]
    },
    {
      "cell_type": "code",
      "source": [
        "#calulate net present value (NPV)\n",
        "#initialize an empy list of 4 items - 1 for each year\n",
        "\n",
        "NPV=[0,0,0,0]\n",
        "\n",
        "for year in dataT['years']:\n",
        "  NPV[year]=dataT['NetBC'][year]*dataT['discountFactor'][year]\n",
        "\n",
        "dataT['NPV']=[round(num,2) for num in NPV]\n",
        "print(dataT)"
      ],
      "metadata": {
        "id": "3iz06sotzsD_",
        "outputId": "864ce4fb-7344-4a47-9cd0-00e8bf9826c1",
        "colab": {
          "base_uri": "https://localhost:8080/"
        }
      },
      "execution_count": null,
      "outputs": [
        {
          "output_type": "stream",
          "name": "stdout",
          "text": [
            "   years  developmentCost  operationalCost  ...  discountFactor  NetBC     NPV\n",
            "0      0             -100                0  ...            1.00   -100 -100.00\n",
            "1      1              -30              -10  ...            0.95    -15  -14.25\n",
            "2      2                0              -15  ...            0.91     40   36.40\n",
            "3      3                0              -15  ...            0.86     70   60.20\n",
            "\n",
            "[4 rows x 7 columns]\n"
          ]
        }
      ]
    }
  ]
}