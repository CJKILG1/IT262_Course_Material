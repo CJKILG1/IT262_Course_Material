{
  "nbformat": 4,
  "nbformat_minor": 0,
  "metadata": {
    "colab": {
      "name": "CameronK_AlternativeA.ipynb",
      "provenance": [],
      "mount_file_id": "1ndtsBXbGKVTJGExDXmLcoZD0krZO6Sqy",
      "authorship_tag": "ABX9TyOvHtqf6Zqm7YQUX/EAPfyL",
      "include_colab_link": true
    },
    "kernelspec": {
      "name": "python3",
      "display_name": "Python 3"
    },
    "language_info": {
      "name": "python"
    }
  },
  "cells": [
    {
      "cell_type": "markdown",
      "metadata": {
        "id": "view-in-github",
        "colab_type": "text"
      },
      "source": [
        "<a href=\"https://colab.research.google.com/github/CJKILG1/IT262_Course_Material/blob/CameronK_AlternativeA/CameronK_AlternativeA.ipynb\" target=\"_parent\"><img src=\"https://colab.research.google.com/assets/colab-badge.svg\" alt=\"Open In Colab\"/></a>"
      ]
    },
    {
      "cell_type": "code",
      "execution_count": 3,
      "metadata": {
        "colab": {
          "base_uri": "https://localhost:8080/"
        },
        "id": "qdfUjTGsrqi7",
        "outputId": "e4b302bc-25a7-493a-c0cb-583a9fdac33c"
      },
      "outputs": [
        {
          "output_type": "stream",
          "name": "stdout",
          "text": [
            "Empty DataFrame\n",
            "Columns: [criteria, weight, ratingA, ratingb, scoreA, scoreB]\n",
            "Index: []\n"
          ]
        }
      ],
      "source": [
        "import pandas as pd\n",
        "\n",
        "AA=pd.DataFrame(columns=['criteria', 'weight', 'ratingA', 'ratingb', 'scoreA', 'scoreB'])\n",
        "print(AA)"
      ]
    },
    {
      "cell_type": "code",
      "source": [
        "# first step: add a list of criteria \n",
        "AA['criteria'] = ['risk', 'ROI', 'customerSatisfaction', 'feasibility', 'strategicAlignment']\n",
        "print (AA)"
      ],
      "metadata": {
        "colab": {
          "base_uri": "https://localhost:8080/"
        },
        "id": "lqcPd-W0s_4L",
        "outputId": "17c009fc-6558-4cd7-ddd8-08ad56cfb571"
      },
      "execution_count": 5,
      "outputs": [
        {
          "output_type": "stream",
          "name": "stdout",
          "text": [
            "               criteria weight ratingA ratingb scoreA scoreB\n",
            "0                  risk    NaN     NaN     NaN    NaN    NaN\n",
            "1                   ROI    NaN     NaN     NaN    NaN    NaN\n",
            "2  customerSatisfaction    NaN     NaN     NaN    NaN    NaN\n",
            "3           feasibility    NaN     NaN     NaN    NaN    NaN\n",
            "4    strategicAlignment    NaN     NaN     NaN    NaN    NaN\n"
          ]
        }
      ]
    },
    {
      "cell_type": "code",
      "source": [
        "# second step: idenfify weights\n",
        "# show relative imporatnce of each criterion\n",
        "# must add up to 100 or 1 depending on scale\n",
        "\n",
        "AA['weight']=[0.15, 0.1, 0.15, 0.30, 0.30]\n",
        "print(AA)"
      ],
      "metadata": {
        "colab": {
          "base_uri": "https://localhost:8080/"
        },
        "id": "zbnVfaLEuXNR",
        "outputId": "4df25f5f-2b49-4cec-d6e9-4b9376dcb1e4"
      },
      "execution_count": 7,
      "outputs": [
        {
          "output_type": "stream",
          "name": "stdout",
          "text": [
            "               criteria weight ratingA ratingb scoreA scoreB  weight\n",
            "0                  risk    NaN     NaN     NaN    NaN    NaN    0.10\n",
            "1                   ROI    NaN     NaN     NaN    NaN    NaN    0.15\n",
            "2  customerSatisfaction    NaN     NaN     NaN    NaN    NaN    0.30\n",
            "3           feasibility    NaN     NaN     NaN    NaN    NaN    0.15\n",
            "4    strategicAlignment    NaN     NaN     NaN    NaN    NaN    0.30\n"
          ]
        }
      ]
    },
    {
      "cell_type": "code",
      "source": [
        "# step 3: rate each alternatvie accross all crieria\n",
        "# choose a scale: 1-5, 1-7, 1-10, or 1-3\n",
        "# higher number: an alternaive is doing beter with respect to that criterion\n",
        "\n",
        "AA['ratingA'] = [1,4,1,2,5]\n",
        "AA['ratingB'] = [4,3,3,2,2]\n",
        "\n",
        "# step 4: calculate partial scors by mulitplying weights * ratings\n",
        "# uinsg iterrows() in Pythion is not reccomended - is an anti pattern.\n",
        "\n",
        "for index, row in AA.iterrows():\n",
        "  AA['scoreA'][index]=row['ratingA']*row['weight']\n",
        "  AA['scoreB'][index]=row['ratingB']*row['weight']\n",
        "\n",
        "print(AA)"
      ],
      "metadata": {
        "colab": {
          "base_uri": "https://localhost:8080/"
        },
        "id": "25iSEjJNvBHT",
        "outputId": "944a372d-35d1-4617-950a-30aacf0b46ab"
      },
      "execution_count": 14,
      "outputs": [
        {
          "output_type": "stream",
          "name": "stdout",
          "text": [
            "               criteria weight  ratingA ratingb scoreA scoreB  weight  ratingB\n",
            "0                  risk    NaN        1     NaN    0.1    0.4    0.10        4\n",
            "1                   ROI    NaN        4     NaN    0.6   0.45    0.15        3\n",
            "2  customerSatisfaction    NaN        1     NaN    0.3    0.9    0.30        3\n",
            "3           feasibility    NaN        2     NaN    0.3    0.3    0.15        2\n",
            "4    strategicAlignment    NaN        5     NaN    1.5    0.6    0.30        2\n"
          ]
        },
        {
          "output_type": "stream",
          "name": "stderr",
          "text": [
            "/usr/local/lib/python3.7/dist-packages/ipykernel_launcher.py:12: SettingWithCopyWarning: \n",
            "A value is trying to be set on a copy of a slice from a DataFrame\n",
            "\n",
            "See the caveats in the documentation: https://pandas.pydata.org/pandas-docs/stable/user_guide/indexing.html#returning-a-view-versus-a-copy\n",
            "  if sys.path[0] == '':\n",
            "/usr/local/lib/python3.7/dist-packages/ipykernel_launcher.py:13: SettingWithCopyWarning: \n",
            "A value is trying to be set on a copy of a slice from a DataFrame\n",
            "\n",
            "See the caveats in the documentation: https://pandas.pydata.org/pandas-docs/stable/user_guide/indexing.html#returning-a-view-versus-a-copy\n",
            "  del sys.path[0]\n"
          ]
        }
      ]
    },
    {
      "cell_type": "code",
      "source": [
        "totalScoreA=0\n",
        "totalScoreB=0\n",
        "for index, row in AA.iterrows():\n",
        "  totalScoreA+=row['scoreA']\n",
        "  totalScoreB+=row['scoreB']\n",
        "\n",
        "print('total score for alternaive A is {:.2f} and for B is {:.2f}'.format(totalScoreA, totalScoreB))"
      ],
      "metadata": {
        "colab": {
          "base_uri": "https://localhost:8080/"
        },
        "id": "zq9HqfOUwYt6",
        "outputId": "07aa61b5-1726-4c58-89ff-0620bfd8d2ce"
      },
      "execution_count": 15,
      "outputs": [
        {
          "output_type": "stream",
          "name": "stdout",
          "text": [
            "total score for alternaive A is 2.80 and for B is 2.65\n"
          ]
        }
      ]
    }
  ]
}
