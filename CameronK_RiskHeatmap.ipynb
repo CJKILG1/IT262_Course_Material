{
  "nbformat": 4,
  "nbformat_minor": 0,
  "metadata": {
    "colab": {
      "name": "CameronK_RiskHeatmap.ipynb",
      "provenance": [],
      "mount_file_id": "1xsWdSXTN1ytdirA_ba53wXC7mtLDpXEG",
      "authorship_tag": "ABX9TyPGYsnbmeQoMJvdFUUdOBlF",
      "include_colab_link": true
    },
    "kernelspec": {
      "name": "python3",
      "display_name": "Python 3"
    },
    "language_info": {
      "name": "python"
    }
  },
  "cells": [
    {
      "cell_type": "markdown",
      "metadata": {
        "id": "view-in-github",
        "colab_type": "text"
      },
      "source": [
        "<a href=\"https://colab.research.google.com/github/CJKILG1/IT262_Course_Material/blob/CameronK_RiskHeatmap/CameronK_RiskHeatmap.ipynb\" target=\"_parent\"><img src=\"https://colab.research.google.com/assets/colab-badge.svg\" alt=\"Open In Colab\"/></a>"
      ]
    },
    {
      "cell_type": "code",
      "execution_count": 1,
      "metadata": {
        "colab": {
          "base_uri": "https://localhost:8080/",
          "height": 491
        },
        "id": "aNvrB7mdYf7P",
        "outputId": "dfe71ff3-da52-4ad2-cd42-a951270a374b"
      },
      "outputs": [
        {
          "output_type": "stream",
          "name": "stdout",
          "text": [
            "likelihood  0.1  0.2  0.3  0.5\n",
            "impact                        \n",
            "1           NaN  0.2  NaN  NaN\n",
            "2           NaN  NaN  0.6  NaN\n",
            "7           0.7  NaN  NaN  NaN\n",
            "10          NaN  NaN  NaN  5.0\n",
            "likelihood     0.1    0.2   0.3       0.5\n",
            "impact                                   \n",
            "1              NaN  users   NaN       NaN\n",
            "2              NaN    NaN  team       NaN\n",
            "7           budget    NaN   NaN       NaN\n",
            "10             NaN    NaN   NaN  security\n"
          ]
        },
        {
          "output_type": "display_data",
          "data": {
            "image/png": "[encoded data removed]",
            "text/plain": [
              "<Figure size 432x288 with 2 Axes>"
            ]
          },
          "metadata": {
            "needs_background": "light"
          }
        }
      ],
      "source": [
        "import seaborn as sns\n",
        "import pandas as pd\n",
        "import numpy as np\n",
        "\n",
        "# Create a dataframe (data table)\n",
        "df = pd.DataFrame(columns=['risk', 'likelihood', 'impact', 'score'])\n",
        "\n",
        "# Identify the list of uncertainties\n",
        "df['risk']=['users','team','budget','security']\n",
        "\n",
        "# Estimate the likelihood of happening: [0,1]\n",
        "df['likelihood']=[0.2,0.3,0.1,0.5]\n",
        "\n",
        "# Assess severity of impact if the uncertainty happens: pick a scale\n",
        "df['score']=df['impact']*df['likelihood']\n",
        "df['impact']=[1,2,7,10]\n",
        "\n",
        "# Calculate scores\n",
        "df['score']=df['impact']*df['likelihood']\n",
        "\n",
        "# Create the heatmap\n",
        "scoresPivot=df.pivot('impact', 'likelihood', 'score')\n",
        "print(scoresPivot)\n",
        "\n",
        "labelsPivot=df.pivot('impact', 'likelihood', 'risk')\n",
        "print(labelsPivot)\n",
        "\n",
        "# Replaces no labels with empty strings\n",
        "labelsPivot.fillna('',inplace=True)\n",
        "\n",
        "# simple heatmap, \"rocket\" defines the color scheme \"_r\" reverses the dark/light color to make the lower numbers ligter, and higher numbers darker.\n",
        "p1=sns.heatmap(scoresPivot, cmap=\"rocket_r\", annot=labelsPivot, fmt='')\n",
        "\n"
      ]
    }
  ]
}